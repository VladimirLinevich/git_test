{
 "cells": [
  {
   "cell_type": "code",
   "execution_count": 17,
   "metadata": {},
   "outputs": [
    {
     "data": {
      "text/plain": [
       "array([[  1.,   2.,   3.,   4.,   5.,   6.,   7.,   8.,   9.,  10.],\n",
       "       [ 56.,  57.,  58.,  59.,  60.,  61.,  62.,  63.,  64.,  11.],\n",
       "       [ 55., 104., 105., 106., 107., 108., 109., 110.,  65.,  12.],\n",
       "       [ 54., 103., 144., 145., 146., 147., 148., 111.,  66.,  13.],\n",
       "       [ 53., 102., 143., 176., 177., 178., 149., 112.,  67.,  14.],\n",
       "       [ 52., 101., 142., 175., 200., 179., 150., 113.,  68.,  15.],\n",
       "       [ 51., 100., 141., 174., 199., 180., 151., 114.,  69.,  16.],\n",
       "       [ 50.,  99., 140., 173., 198., 181., 152., 115.,  70.,  17.],\n",
       "       [ 49.,  98., 139., 172., 197., 182., 153., 116.,  71.,  18.],\n",
       "       [ 48.,  97., 138., 171., 196., 183., 154., 117.,  72.,  19.],\n",
       "       [ 47.,  96., 137., 170., 195., 184., 155., 118.,  73.,  20.],\n",
       "       [ 46.,  95., 136., 169., 194., 185., 156., 119.,  74.,  21.],\n",
       "       [ 45.,  94., 135., 168., 193., 186., 157., 120.,  75.,  22.],\n",
       "       [ 44.,  93., 134., 167., 192., 187., 158., 121.,  76.,  23.],\n",
       "       [ 43.,  92., 133., 166., 191., 188., 159., 122.,  77.,  24.],\n",
       "       [ 42.,  91., 132., 165., 190., 189., 160., 123.,  78.,  25.],\n",
       "       [ 41.,  90., 131., 164., 163., 162., 161., 124.,  79.,  26.],\n",
       "       [ 40.,  89., 130., 129., 128., 127., 126., 125.,  80.,  27.],\n",
       "       [ 39.,  88.,  87.,  86.,  85.,  84.,  83.,  82.,  81.,  28.],\n",
       "       [ 38.,  37.,  36.,  35.,  34.,  33.,  32.,  31.,  30.,  29.]])"
      ]
     },
     "metadata": {},
     "output_type": "display_data"
    }
   ],
   "source": [
    "import numpy as np\n",
    "\n",
    "table = np.zeros((20,10))\n",
    "\n",
    "A = len(table[0])\n",
    "B = len(table)\n",
    "a = np.ones((B+2,A+2))\n",
    "a[1:-1,1:-1] = table\n",
    "\n",
    "x = 1\n",
    "y = 1\n",
    "shift_x = 1\n",
    "shift_y = 0\n",
    "for i in range(1,A*B+1):\n",
    "    a[y,x] = i\n",
    "    if shift_x == 1:\n",
    "        if a[y][x+1] != 0:\n",
    "            shift_y = 1\n",
    "            shift_x = 0\n",
    "        else:\n",
    "            shift_y = 0\n",
    "            shift_x = 1\n",
    "    if shift_y == 1:\n",
    "        if a[y+1][x] != 0:\n",
    "            shift_y = 0\n",
    "            shift_x = -1\n",
    "        else:\n",
    "            shift_y = 1\n",
    "            shift_x = 0\n",
    "    if shift_x == -1:\n",
    "        if a[y][x-1] != 0:\n",
    "            shift_y = -1\n",
    "            shift_x = 0\n",
    "        else:\n",
    "            shift_y = 0\n",
    "            shift_x = -1\n",
    "    if shift_y == -1:\n",
    "        if a[y-1][x] != 0:\n",
    "            shift_y = 0\n",
    "            shift_x = 1\n",
    "        else:\n",
    "            shift_y = -1\n",
    "            shift_x = 0\n",
    "    x += shift_x\n",
    "    y +=shift_y\n",
    "\n",
    "display (a[1:-1,1:-1])\n",
    "    "
   ]
  },
  {
   "cell_type": "code",
   "execution_count": 9,
   "metadata": {},
   "outputs": [],
   "source": [
    "import numpy as np\n",
    "table = np.zeros((5,5))\n",
    "\n",
    "A = len(table[0])\n",
    "B = len(table)\n",
    "a = np.ones((B+2,A+2))\n",
    "a[1:-1,1:-1] = table"
   ]
  },
  {
   "cell_type": "code",
   "execution_count": 10,
   "metadata": {},
   "outputs": [
    {
     "data": {
      "text/plain": [
       "array([[1., 1., 1., 1., 1., 1., 1.],\n",
       "       [1., 0., 0., 0., 0., 0., 1.],\n",
       "       [1., 0., 0., 0., 0., 0., 1.],\n",
       "       [1., 0., 0., 0., 0., 0., 1.],\n",
       "       [1., 0., 0., 0., 0., 0., 1.],\n",
       "       [1., 0., 0., 0., 0., 0., 1.],\n",
       "       [1., 1., 1., 1., 1., 1., 1.]])"
      ]
     },
     "execution_count": 10,
     "metadata": {},
     "output_type": "execute_result"
    }
   ],
   "source": [
    "a"
   ]
  }
 ],
 "metadata": {
  "kernelspec": {
   "display_name": "Python 3.9.7 64-bit",
   "language": "python",
   "name": "python3"
  },
  "language_info": {
   "codemirror_mode": {
    "name": "ipython",
    "version": 3
   },
   "file_extension": ".py",
   "mimetype": "text/x-python",
   "name": "python",
   "nbconvert_exporter": "python",
   "pygments_lexer": "ipython3",
   "version": "3.9.7"
  },
  "orig_nbformat": 4,
  "vscode": {
   "interpreter": {
    "hash": "5454c2acc74d20840704f95be45d6c5f6cda957f73a363ffa059b8adbe38424c"
   }
  }
 },
 "nbformat": 4,
 "nbformat_minor": 2
}
